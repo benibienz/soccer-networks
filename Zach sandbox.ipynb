{
 "cells": [
  {
   "cell_type": "code",
   "execution_count": 1,
   "metadata": {},
   "outputs": [],
   "source": [
    "import pandas as pd\n",
    "import networkx as nx\n",
    "import numpy as np\n",
    "import matplotlib.pyplot as plt\n",
    "\n",
    "from src.load import load_full_network_from_df\n",
    "from src.util import FullTransferNetwork\n",
    "\n",
    "from collections import defaultdict, namedtuple\n",
    "\n",
    "import math"
   ]
  },
  {
   "cell_type": "code",
   "execution_count": 2,
   "metadata": {},
   "outputs": [],
   "source": [
    "AggregateFullTransferNetwork = namedtuple(\n",
    "    'AggregateFullTransferNetwork',\n",
    "    ['G', 'league_clubs', 'currency', 'denomination', 'player_key', 'fee_key', 'year_key', 'window_key', 'start_year', 'end_year']\n",
    ")\n",
    "def load_full_aggregate_network(\n",
    "    start_year: int = 2000, \n",
    "    end_year: int = 2010, \n",
    "    league: str = \"english_premier_league\"\n",
    ") -> AggregateFullTransferNetwork:\n",
    "    '''\n",
    "    Create an aggregate Full Transfer Network from start year to end year. The graph will contain \n",
    "    attributes such as players, teams, fees, years, and transfer windows\n",
    "    \n",
    "    Inputs:\n",
    "        start_year:  (int) the start year to look at for transfers. Lowest value 1888\n",
    "        end_year:    (int) the end year to look at for transfers. Highest value is 2019\n",
    "        league:      (str) the league to load\n",
    "    Outputs:\n",
    "        AggregateFullTransferNetwork\n",
    "    '''\n",
    "    \n",
    "    # create the graph to use\n",
    "    G = nx.MultiDiGraph()\n",
    "    \n",
    "    # keep track of all clubs\n",
    "    clubs = []\n",
    "    \n",
    "    # keep track of the keys\n",
    "    player_key = None\n",
    "    fee_key = None\n",
    "    year_key = None\n",
    "    window_key = None\n",
    "    denomination = None\n",
    "    \n",
    "    # go through all years and load the networks\n",
    "    for year in range(start_year, end_year + 1):\n",
    "        \n",
    "        # we have to make the dataframe first\n",
    "        df = pd.read_csv(f\"data/{year}/{league}.csv\")\n",
    "        \n",
    "        year_ftn = load_full_network_from_df(df, \"pounds\")\n",
    "        \n",
    "        # set the keys\n",
    "        if year == start_year:\n",
    "            player_key = year_ftn.player_key\n",
    "            fee_key = year_ftn.fee_key\n",
    "            year_key = year_ftn.year_key\n",
    "            window_key = year_ftn.window_key\n",
    "            denomination = year_ftn.denomination\n",
    "        \n",
    "        # get all clubs\n",
    "        clubs += year_ftn.league_clubs\n",
    "        \n",
    "        # combine the graphs\n",
    "        for u, v, data in year_ftn.G.edges(data=True):\n",
    "            G.add_edge(u, v, player=data[player_key], fee=data[fee_key], year=data[year_key], transfer_window=data[window_key])\n",
    "        \n",
    "    # setify the clubs\n",
    "    clubs = list(set(clubs))\n",
    "    \n",
    "    # now create the AggregateFullTransferNetwork\n",
    "    return AggregateFullTransferNetwork(G, clubs, \"pounds\", denomination, player_key, fee_key, year_key, window_key, start_year, end_year)\n",
    "\n",
    "\n"
   ]
  },
  {
   "cell_type": "code",
   "execution_count": 3,
   "metadata": {},
   "outputs": [],
   "source": [
    "aftn = load_full_aggregate_network()"
   ]
  },
  {
   "cell_type": "code",
   "execution_count": 4,
   "metadata": {},
   "outputs": [
    {
     "name": "stdout",
     "output_type": "stream",
     "text": [
      "from tottenham to manchester united with data {'player': 'dimitar berbatov', 'fee': 34.2, 'year': 2008, 'transfer_window': 'summer'}\n",
      "from bay. leverkusen to tottenham with data {'player': 'dimitar berbatov', 'fee': 14.13, 'year': 2006, 'transfer_window': 'summer'}\n"
     ]
    }
   ],
   "source": [
    "for u, v, data in aftn.G.edges(data=True):\n",
    "    if 'dimitar berbatov' in data[aftn.player_key]:\n",
    "        print(f'from {u} to {v} with data {data}')"
   ]
  },
  {
   "cell_type": "code",
   "execution_count": null,
   "metadata": {},
   "outputs": [],
   "source": []
  }
 ],
 "metadata": {
  "kernelspec": {
   "display_name": "Python 3",
   "language": "python",
   "name": "python3"
  },
  "language_info": {
   "codemirror_mode": {
    "name": "ipython",
    "version": 3
   },
   "file_extension": ".py",
   "mimetype": "text/x-python",
   "name": "python",
   "nbconvert_exporter": "python",
   "pygments_lexer": "ipython3",
   "version": "3.7.4"
  }
 },
 "nbformat": 4,
 "nbformat_minor": 4
}
